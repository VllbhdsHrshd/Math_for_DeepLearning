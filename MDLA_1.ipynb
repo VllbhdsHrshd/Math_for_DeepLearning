{
 "cells": [
  {
   "cell_type": "code",
   "execution_count": 1,
   "id": "db023e88-4375-4304-b402-81c41863e09e",
   "metadata": {},
   "outputs": [],
   "source": [
    "import torch\n",
    "import numpy as np"
   ]
  },
  {
   "cell_type": "code",
   "execution_count": 4,
   "id": "5a930f2b-1f42-4169-ba6e-a88688d46d18",
   "metadata": {},
   "outputs": [],
   "source": [
    "v = torch.tensor([1,2,3,4,5,6,7,8,9], dtype = torch.float64)"
   ]
  },
  {
   "cell_type": "code",
   "execution_count": 5,
   "id": "296be487-23ff-4d23-a2b5-6e94106a751e",
   "metadata": {},
   "outputs": [
    {
     "data": {
      "text/plain": [
       "tensor([1., 2., 3., 4., 5., 6., 7., 8., 9.], dtype=torch.float64)"
      ]
     },
     "execution_count": 5,
     "metadata": {},
     "output_type": "execute_result"
    }
   ],
   "source": [
    "v"
   ]
  },
  {
   "cell_type": "code",
   "execution_count": 6,
   "id": "586a40db-1f09-4c9b-8100-d1a87cba2717",
   "metadata": {},
   "outputs": [
    {
     "data": {
      "text/plain": [
       "(tensor(1., dtype=torch.float64), tensor(3., dtype=torch.float64))"
      ]
     },
     "execution_count": 6,
     "metadata": {},
     "output_type": "execute_result"
    }
   ],
   "source": [
    "v[0], v[2]\n"
   ]
  },
  {
   "cell_type": "code",
   "execution_count": 7,
   "id": "03f04297-c043-4e3e-99bc-873b8447227c",
   "metadata": {},
   "outputs": [
    {
     "data": {
      "text/plain": [
       "(tensor(9., dtype=torch.float64), tensor(8., dtype=torch.float64))"
      ]
     },
     "execution_count": 7,
     "metadata": {},
     "output_type": "execute_result"
    }
   ],
   "source": [
    "v[-1], v[-2]"
   ]
  },
  {
   "cell_type": "code",
   "execution_count": 9,
   "id": "e48af9c5-a22a-443d-a888-2b43c079a960",
   "metadata": {},
   "outputs": [
    {
     "data": {
      "text/plain": [
       "tensor([2., 3., 4., 5.], dtype=torch.float64)"
      ]
     },
     "execution_count": 9,
     "metadata": {},
     "output_type": "execute_result"
    }
   ],
   "source": [
    "v[1:5]"
   ]
  },
  {
   "cell_type": "code",
   "execution_count": 10,
   "id": "f3bc1b66-047c-441b-a8e0-2f756de8cb42",
   "metadata": {},
   "outputs": [
    {
     "data": {
      "text/plain": [
       "9"
      ]
     },
     "execution_count": 10,
     "metadata": {},
     "output_type": "execute_result"
    }
   ],
   "source": [
    "len(v)"
   ]
  },
  {
   "cell_type": "code",
   "execution_count": 13,
   "id": "bd2fd1a7-4035-4d16-b6c0-5ddda9510720",
   "metadata": {},
   "outputs": [
    {
     "name": "stdout",
     "output_type": "stream",
     "text": [
      "[ 0  1  2  3  4  5  6  7  8  9 10 11 12 13 14 15 16 17 18 19]\n"
     ]
    },
    {
     "data": {
      "text/plain": [
       "tensor([ 0,  1,  2,  3,  4,  5,  6,  7,  8,  9, 10, 11, 12, 13, 14, 15, 16, 17,\n",
       "        18, 19])"
      ]
     },
     "execution_count": 13,
     "metadata": {},
     "output_type": "execute_result"
    }
   ],
   "source": [
    "u = np.arange(20)\n",
    "print(u)\n",
    "u = torch.from_numpy(u)\n",
    "u"
   ]
  },
  {
   "cell_type": "code",
   "execution_count": 14,
   "id": "6052d350-ce63-4cc6-b491-e2388ad6602e",
   "metadata": {},
   "outputs": [
    {
     "data": {
      "text/plain": [
       "tensor([0, 0, 0, 0, 0, 0, 0, 0, 0, 0, 0, 0, 0, 0, 0, 0, 0, 0, 0, 0])"
      ]
     },
     "execution_count": 14,
     "metadata": {},
     "output_type": "execute_result"
    }
   ],
   "source": [
    "diff = u.sub(u)\n",
    "diff"
   ]
  },
  {
   "cell_type": "code",
   "execution_count": 15,
   "id": "b7a1db02-ed5c-4ddb-b628-8d2d6ce680de",
   "metadata": {},
   "outputs": [],
   "source": [
    "u = u.numpy()"
   ]
  },
  {
   "cell_type": "code",
   "execution_count": 16,
   "id": "ef1a5143-be43-4393-a1c7-9bf97825c00f",
   "metadata": {},
   "outputs": [
    {
     "data": {
      "text/plain": [
       "array([ 0,  1,  2,  3,  4,  5,  6,  7,  8,  9, 10, 11, 12, 13, 14, 15, 16,\n",
       "       17, 18, 19])"
      ]
     },
     "execution_count": 16,
     "metadata": {},
     "output_type": "execute_result"
    }
   ],
   "source": [
    "u\n"
   ]
  },
  {
   "cell_type": "code",
   "execution_count": 43,
   "id": "8305409b-b431-4481-94ed-f051a64e814e",
   "metadata": {},
   "outputs": [
    {
     "data": {
      "text/plain": [
       "(array([[0.60226043, 0.75538508, 0.89177645, 0.69168542, 0.04548965,\n",
       "         0.13137682, 0.15756097, 0.81977584, 0.57223059],\n",
       "        [0.71089345, 0.57247454, 0.57041779, 0.5988971 , 0.03820188,\n",
       "         0.2156207 , 0.05389413, 0.34403077, 0.33549732],\n",
       "        [0.59513446, 0.77671482, 0.8037695 , 0.8314093 , 0.13104017,\n",
       "         0.01033121, 0.8044413 , 0.39314685, 0.38464609],\n",
       "        [0.68085623, 0.83994469, 0.15957571, 0.08760624, 0.31437136,\n",
       "         0.58843937, 0.40537545, 0.83205346, 0.68397031]]),\n",
       " 4,\n",
       " 9)"
      ]
     },
     "execution_count": 43,
     "metadata": {},
     "output_type": "execute_result"
    }
   ],
   "source": [
    "fake_img = np.random.random(6*6).reshape(4,9)\n",
    "fake_img, fake_img.shape[0], fake_img.shape[1]\n"
   ]
  },
  {
   "cell_type": "code",
   "execution_count": 44,
   "id": "6a37e32a-ccd6-41cd-8c6f-a1d034e1d61f",
   "metadata": {},
   "outputs": [
    {
     "data": {
      "text/plain": [
       "array([0.59513446, 0.77671482, 0.8037695 , 0.8314093 , 0.13104017,\n",
       "       0.01033121, 0.8044413 , 0.39314685, 0.38464609])"
      ]
     },
     "execution_count": 44,
     "metadata": {},
     "output_type": "execute_result"
    }
   ],
   "source": [
    "fake_img[2, :]"
   ]
  },
  {
   "cell_type": "code",
   "execution_count": 46,
   "id": "d8712824-abe8-4c48-b69a-510bfd43e53b",
   "metadata": {},
   "outputs": [
    {
     "data": {
      "text/plain": [
       "(5, 5, 3)"
      ]
     },
     "execution_count": 46,
     "metadata": {},
     "output_type": "execute_result"
    }
   ],
   "source": [
    "tensor = torch.rand((5,5,3))\n",
    "tensor.shape[0], tensor.shape[1], tensor.shape[2]"
   ]
  },
  {
   "cell_type": "code",
   "execution_count": 50,
   "id": "32170ad9-a6ba-4489-95d1-2c73c4a10510",
   "metadata": {},
   "outputs": [],
   "source": [
    "# import cv2\n",
    "# !pip install opencv-python"
   ]
  },
  {
   "cell_type": "code",
   "execution_count": 51,
   "id": "c0565ce2-6a6c-4dcf-ad47-9d3516439580",
   "metadata": {},
   "outputs": [
    {
     "name": "stdout",
     "output_type": "stream",
     "text": [
      "tensor([[0.9882, 0.7813, 0.0727, 0.0038, 0.2036],\n",
      "        [0.0166, 0.8582, 0.9375, 0.9576, 0.4174],\n",
      "        [0.9206, 0.9966, 0.7165, 0.0600, 0.5021],\n",
      "        [0.4218, 0.1772, 0.0748, 0.0680, 0.9854],\n",
      "        [0.6613, 0.0401, 0.1186, 0.7032, 0.6572]])\n"
     ]
    }
   ],
   "source": [
    "print(tensor[:,:,2])"
   ]
  },
  {
   "cell_type": "code",
   "execution_count": 52,
   "id": "8bb2f98f-00d9-4ffe-9ac4-2f62c3d7c9b4",
   "metadata": {},
   "outputs": [
    {
     "data": {
      "text/plain": [
       "tensor([[  0,   8,  16,  24,  32,  40,  48,  56,  64],\n",
       "        [ 64,  72,  80,  88,  96, 104, 112, 120, 128],\n",
       "        [128, 136, 144, 152, 160, 168, 176, 184, 192],\n",
       "        [192, 200, 208, 216, 224, 232, 240, 248, 256]])"
      ]
     },
     "execution_count": 52,
     "metadata": {},
     "output_type": "execute_result"
    }
   ],
   "source": [
    "I49 = torch.stack([torch.arange(0,72,8), torch.arange(64,136,8), torch.arange(128,200,8), torch.arange(192,264,8)])\n",
    "I49"
   ]
  },
  {
   "cell_type": "code",
   "execution_count": 53,
   "id": "79ca3150-c9aa-4e66-8de7-47299c592557",
   "metadata": {},
   "outputs": [
    {
     "data": {
      "text/plain": [
       "tensor([[  0,  64, 128, 192],\n",
       "        [  8,  72, 136, 200],\n",
       "        [ 16,  80, 144, 208],\n",
       "        [ 24,  88, 152, 216],\n",
       "        [ 32,  96, 160, 224],\n",
       "        [ 40, 104, 168, 232],\n",
       "        [ 48, 112, 176, 240],\n",
       "        [ 56, 120, 184, 248],\n",
       "        [ 64, 128, 192, 256]])"
      ]
     },
     "execution_count": 53,
     "metadata": {},
     "output_type": "execute_result"
    }
   ],
   "source": [
    "I49_t = torch.transpose(I49, 0,1)\n",
    "I49_t"
   ]
  },
  {
   "cell_type": "code",
   "execution_count": 54,
   "id": "e2579e13-8ef4-4d89-a958-6856f6e327fb",
   "metadata": {},
   "outputs": [
    {
     "data": {
      "text/plain": [
       "(torch.Size([4, 9]), torch.Size([9, 4]))"
      ]
     },
     "execution_count": 54,
     "metadata": {},
     "output_type": "execute_result"
    }
   ],
   "source": [
    "I49.shape, I49_t.shape"
   ]
  },
  {
   "cell_type": "code",
   "execution_count": 55,
   "id": "ba0880ea-50df-4da2-aaab-f1c20c73bbac",
   "metadata": {},
   "outputs": [],
   "source": [
    "for i in range(I49.shape[0]):\n",
    "    for j in range(I49.shape[1]):\n",
    "        assert I49[i][j] == I49_t[j][i]"
   ]
  },
  {
   "cell_type": "code",
   "execution_count": 56,
   "id": "645ea7e6-2629-4896-b3e5-78958e0940f5",
   "metadata": {},
   "outputs": [],
   "source": [
    "assert torch.allclose(I49_t, I49.T, 1e-5)\n"
   ]
  },
  {
   "cell_type": "code",
   "execution_count": 57,
   "id": "d7fedc81-8261-4e8d-833e-c347211ed40b",
   "metadata": {},
   "outputs": [
    {
     "name": "stdout",
     "output_type": "stream",
     "text": [
      "tensor([[    0,    64,   256,   576,  1024,  1600,  2304,  3136,  4096],\n",
      "        [ 4096,  5184,  6400,  7744,  9216, 10816, 12544, 14400, 16384],\n",
      "        [16384, 18496, 20736, 23104, 25600, 28224, 30976, 33856, 36864],\n",
      "        [36864, 40000, 43264, 46656, 50176, 53824, 57600, 61504, 65536]])\n"
     ]
    }
   ],
   "source": [
    "print(I49 * I49)"
   ]
  },
  {
   "cell_type": "code",
   "execution_count": 58,
   "id": "dc421dbb-b244-4895-b978-08eec8b3735c",
   "metadata": {},
   "outputs": [
    {
     "name": "stdout",
     "output_type": "stream",
     "text": [
      "tensor([[ 13056,  31488,  49920,  68352],\n",
      "        [ 31488,  86784, 142080, 197376],\n",
      "        [ 49920, 142080, 234240, 326400],\n",
      "        [ 68352, 197376, 326400, 455424]])\n"
     ]
    }
   ],
   "source": [
    "print(I49@ I49.T)"
   ]
  },
  {
   "cell_type": "code",
   "execution_count": 59,
   "id": "4434e191-f132-40f4-b241-c081f3eca09b",
   "metadata": {},
   "outputs": [
    {
     "name": "stdout",
     "output_type": "stream",
     "text": [
      "tensor(32)\n"
     ]
    }
   ],
   "source": [
    "a = torch.tensor([1,2,3])\n",
    "b = torch.tensor([4,5,6])\n",
    "a_dot_b = torch.dot(a,b)\n",
    "print(a_dot_b)"
   ]
  },
  {
   "cell_type": "code",
   "execution_count": 60,
   "id": "6514a665-e02b-4945-a9fb-6adb28d3e540",
   "metadata": {},
   "outputs": [
    {
     "name": "stdout",
     "output_type": "stream",
     "text": [
      "tensor(0)\n"
     ]
    }
   ],
   "source": [
    "print(torch.dot(torch.tensor([1,0]), torch.tensor([0,1])))"
   ]
  },
  {
   "cell_type": "code",
   "execution_count": 61,
   "id": "a15b3602-8895-46bb-93ee-484b71be0e62",
   "metadata": {},
   "outputs": [
    {
     "name": "stdout",
     "output_type": "stream",
     "text": [
      "tensor([[0.3516, 0.9959],\n",
      "        [0.4023, 0.8020],\n",
      "        [0.6234, 0.5317],\n",
      "        [0.4893, 0.9097],\n",
      "        [0.1324, 0.1094],\n",
      "        [0.8839, 0.4244],\n",
      "        [0.5514, 0.2416],\n",
      "        [0.5911, 0.9171],\n",
      "        [0.5387, 0.5131],\n",
      "        [0.9097, 0.2442],\n",
      "        [0.6695, 0.2606],\n",
      "        [0.8648, 0.9866],\n",
      "        [0.7641, 0.2720],\n",
      "        [0.7645, 0.2726],\n",
      "        [0.7011, 0.2435]]) tensor([[0.4052],\n",
      "        [0.0593]]) tensor([0.4399])\n"
     ]
    }
   ],
   "source": [
    "# 15X2, 2X1\n",
    "W = torch.rand((15,2))\n",
    "x = torch.rand((2,1))\n",
    "b = torch.rand((1))\n",
    "print(W, x,b)"
   ]
  },
  {
   "cell_type": "code",
   "execution_count": 65,
   "id": "7249497a-128e-47d7-acc9-7cc743d539dc",
   "metadata": {},
   "outputs": [
    {
     "name": "stdout",
     "output_type": "stream",
     "text": [
      "tensor([[0.6414],\n",
      "        [0.6504],\n",
      "        [0.7240],\n",
      "        [0.6921],\n",
      "        [0.5000],\n",
      "        [0.8232],\n",
      "        [0.6776],\n",
      "        [0.7338],\n",
      "        [0.6886],\n",
      "        [0.8230],\n",
      "        [0.7266],\n",
      "        [0.8488],\n",
      "        [0.7656],\n",
      "        [0.7658],\n",
      "        [0.7384]])\n"
     ]
    }
   ],
   "source": [
    "output = torch.matmul(W,x) + b\n",
    "print(output)"
   ]
  },
  {
   "cell_type": "code",
   "execution_count": 68,
   "id": "13d15724-968d-437b-b2cd-f93f73922b9b",
   "metadata": {},
   "outputs": [],
   "source": [
    "I33 = torch.rand((3,3))\n",
    "J33 = torch.rand((3,3))\n",
    "\n",
    "assert torch.all(torch.matmul(I33, J33).T == torch.matmul(J33.T, I33.T))"
   ]
  },
  {
   "cell_type": "code",
   "execution_count": 69,
   "id": "20f43b4b-4d98-4722-8f2e-204f98c759a7",
   "metadata": {},
   "outputs": [
    {
     "data": {
      "text/plain": [
       "tensor([[0.6414],\n",
       "        [0.3073],\n",
       "        [0.9197]])"
      ]
     },
     "execution_count": 69,
     "metadata": {},
     "output_type": "execute_result"
    }
   ],
   "source": [
    "x = torch.rand((3,1))\n",
    "x"
   ]
  },
  {
   "cell_type": "code",
   "execution_count": 72,
   "id": "7716b2f0-cd78-42d0-aadc-3afc4ad2b28a",
   "metadata": {},
   "outputs": [],
   "source": [
    "assert torch.all(torch.matmul(I33.T, x).T == torch.matmul(x.T, I33 ))"
   ]
  },
  {
   "cell_type": "code",
   "execution_count": 74,
   "id": "c522680b-975f-461b-9fb3-3a51451b5ba4",
   "metadata": {},
   "outputs": [
    {
     "name": "stdout",
     "output_type": "stream",
     "text": [
      "tensor([[-6.9087,  1.4182,  4.1423],\n",
      "        [-2.1612, -3.3255,  4.7518],\n",
      "        [ 8.4794,  1.2393, -6.7742]])\n"
     ]
    }
   ],
   "source": [
    "def determinant(A):\n",
    "    return torch.linalg.det(A)\n",
    "\n",
    "def inverse(A):\n",
    "    return torch.linalg.inv(A)\n",
    "\n",
    "I33_inv = inverse(I33)\n",
    "print(I33_inv)"
   ]
  },
  {
   "cell_type": "code",
   "execution_count": 75,
   "id": "2817ab46-892b-4a4f-bf91-6c2140d7bd10",
   "metadata": {},
   "outputs": [
    {
     "data": {
      "text/plain": [
       "tensor([[1., 0., 0.],\n",
       "        [0., 1., 0.],\n",
       "        [0., 0., 1.]])"
      ]
     },
     "execution_count": 75,
     "metadata": {},
     "output_type": "execute_result"
    }
   ],
   "source": [
    "Id_33 = torch.eye(3)\n",
    "Id_33"
   ]
  },
  {
   "cell_type": "code",
   "execution_count": 79,
   "id": "8643e822-d633-4aa8-be30-8a48825f46c8",
   "metadata": {},
   "outputs": [
    {
     "name": "stdout",
     "output_type": "stream",
     "text": [
      "tensor([[True, True, True],\n",
      "        [True, True, True],\n",
      "        [True, True, True]])\n"
     ]
    }
   ],
   "source": [
    "A = torch.eye(3)\n",
    "A_inv = inverse(A)\n",
    "print(A @ A_inv == Id_33)"
   ]
  },
  {
   "cell_type": "code",
   "execution_count": 80,
   "id": "b18241b8-3f07-4d58-836a-e35100d7b3e0",
   "metadata": {},
   "outputs": [
    {
     "name": "stdout",
     "output_type": "stream",
     "text": [
      "The Matrix is not invertible since being the singular\n"
     ]
    }
   ],
   "source": [
    "## Singular Matrix\n",
    "B = torch.tensor([[1,1], [2,2]])\n",
    "try: \n",
    "    B_inv = inverse(B)\n",
    "except RuntimeError as e:\n",
    "    print(\"The Matrix is not invertible since being the singular\".format(B,e))"
   ]
  },
  {
   "cell_type": "code",
   "execution_count": 81,
   "id": "6d865678-8129-4cd3-9f64-db9a2d419d16",
   "metadata": {},
   "outputs": [],
   "source": [
    "def pseudoInverse(A):\n",
    "    return torch.matmul(inverse(torch.matmul(A.T, A)), A.T)\n"
   ]
  },
  {
   "cell_type": "code",
   "execution_count": 83,
   "id": "943e8432-6f97-41be-b9e1-58e82da87b6d",
   "metadata": {},
   "outputs": [
    {
     "data": {
      "text/plain": [
       "tensor([[0.7391, 0.2480, 1.0000],\n",
       "        [0.4943, 0.5705, 1.0000],\n",
       "        [0.3284, 0.6235, 1.0000],\n",
       "        [0.7651, 0.0653, 1.0000],\n",
       "        [0.6622, 0.1306, 1.0000],\n",
       "        [0.2745, 0.8792, 1.0000],\n",
       "        [0.6181, 0.1327, 1.0000],\n",
       "        [0.4007, 0.1499, 1.0000]])"
      ]
     },
     "execution_count": 83,
     "metadata": {},
     "output_type": "execute_result"
    }
   ],
   "source": [
    "X = torch.rand((8,2))\n",
    "X = torch.column_stack((X, torch.ones(8)))\n",
    "X"
   ]
  },
  {
   "cell_type": "code",
   "execution_count": 84,
   "id": "f0d31f61-6282-471d-8858-32a765fa2a0e",
   "metadata": {},
   "outputs": [
    {
     "data": {
      "text/plain": [
       "tensor([[0.3762],\n",
       "        [0.4848],\n",
       "        [0.5769],\n",
       "        [0.3147],\n",
       "        [0.8892],\n",
       "        [0.3620],\n",
       "        [0.9431],\n",
       "        [0.5650]])"
      ]
     },
     "execution_count": 84,
     "metadata": {},
     "output_type": "execute_result"
    }
   ],
   "source": [
    "Y = torch.rand((8,1))\n",
    "Y"
   ]
  },
  {
   "cell_type": "code",
   "execution_count": 85,
   "id": "188801d9-fb0c-4df5-b9fd-ae7af9d290c6",
   "metadata": {},
   "outputs": [
    {
     "data": {
      "text/plain": [
       "tensor([[-0.6230],\n",
       "        [-0.5981],\n",
       "        [ 1.1068]])"
      ]
     },
     "execution_count": 85,
     "metadata": {},
     "output_type": "execute_result"
    }
   ],
   "source": [
    "W = torch.matmul(pseudoInverse(X), Y)\n",
    "W"
   ]
  },
  {
   "cell_type": "code",
   "execution_count": 86,
   "id": "3d9ca95b-2487-44be-bffc-9642c090ed16",
   "metadata": {},
   "outputs": [],
   "source": [
    "from torch import linalg as LA\n",
    "import math"
   ]
  },
  {
   "cell_type": "code",
   "execution_count": 88,
   "id": "6256ac26-857f-4a8a-850f-cd77c692e941",
   "metadata": {},
   "outputs": [
    {
     "data": {
      "text/plain": [
       "tensor([[ 0.5253,  0.8509,  0.0000],\n",
       "        [-0.8509,  0.5253,  0.0000],\n",
       "        [ 0.0000,  0.0000,  1.0000]], dtype=torch.float64)"
      ]
     },
     "execution_count": 88,
     "metadata": {},
     "output_type": "execute_result"
    }
   ],
   "source": [
    "rot_Z = torch.tensor([[math.cos(45), math.sin(45), 0],[-math.sin(45), math.cos(45), 0],[0,0,1]], dtype = torch.float64)\n",
    "rot_Z"
   ]
  },
  {
   "cell_type": "code",
   "execution_count": 89,
   "id": "c056a6f5-3504-4e0c-8ede-e262de50a84b",
   "metadata": {},
   "outputs": [
    {
     "name": "stdout",
     "output_type": "stream",
     "text": [
      "tensor([0.5253+0.8509j, 0.5253-0.8509j, 1.0000+0.0000j],\n",
      "       dtype=torch.complex128) tensor([[0.7071+0.0000j, 0.7071-0.0000j, 0.0000+0.0000j],\n",
      "        [0.0000+0.7071j, 0.0000-0.7071j, 0.0000+0.0000j],\n",
      "        [0.0000+0.0000j, 0.0000-0.0000j, 1.0000+0.0000j]],\n",
      "       dtype=torch.complex128)\n"
     ]
    }
   ],
   "source": [
    "l, e = LA.eig(rot_Z)\n",
    "print(l,e)"
   ]
  },
  {
   "cell_type": "code",
   "execution_count": 96,
   "id": "f1953f61-3e6e-46da-9055-2a0d03b8c9cb",
   "metadata": {},
   "outputs": [
    {
     "name": "stdout",
     "output_type": "stream",
     "text": [
      "0.7071067811865476 0.7071067811865475\n"
     ]
    }
   ],
   "source": [
    "print(math.cos(45 * math.pi/180),  1/(math.sqrt(2)))"
   ]
  },
  {
   "cell_type": "code",
   "execution_count": 97,
   "id": "e4ee21b7-0112-4fa2-9c76-52765d894829",
   "metadata": {},
   "outputs": [],
   "source": [
    "def cosine(theta):\n",
    "    return math.cos(theta * math.pi/180)\n",
    "def sine(theta):\n",
    "    return math.sin(theta * math.pi/180)\n"
   ]
  },
  {
   "cell_type": "code",
   "execution_count": 98,
   "id": "e602190f-5c39-4421-aa02-b6b5c2b3d239",
   "metadata": {},
   "outputs": [
    {
     "name": "stdout",
     "output_type": "stream",
     "text": [
      "0.7071067811865476\n"
     ]
    }
   ],
   "source": [
    "print(cosine(45))"
   ]
  },
  {
   "cell_type": "code",
   "execution_count": 115,
   "id": "84bb3049-eb62-47df-8b10-f7e18fc3ca92",
   "metadata": {},
   "outputs": [],
   "source": [
    "def rotation_matrix_2d(theta):\n",
    "    return torch.tensor([[cosine(theta), -sine(theta)],[sine(theta), cosine(theta)]], dtype=torch.float)\n",
    "\n",
    "\n",
    "def rotation_matrix_3d(axis,theta):\n",
    "    \n",
    "    if axis==0:\n",
    "        ## X-axis\n",
    "        return torch.tensor([[1,0,0],[0, cosine(theta), -sine(theta)],[0, sine(theta), cosine(theta)]], dtype=torch.float)\n",
    "    \n",
    "    \n",
    "    elif axis == 1:\n",
    "        ## Y-axis\n",
    "        return torch.tensor([[cosine(theta), 0, -sine(theta)],[0,1,0],[sine(theta), 0, cosine(theta)]], dtype = torch.float)\n",
    "    \n",
    "    \n",
    "    elif axis == 2:\n",
    "        ## Z-axis\n",
    "        return torch.tensor([[cosine(theta), -sine(theta), 0],[sine(theta), cosine(theta), 0],[0,0,1]], dtype = torch.float)\n",
    "\n",
    "    "
   ]
  },
  {
   "cell_type": "code",
   "execution_count": 116,
   "id": "5e7d4fb8-aeab-4e39-9374-c5a5453553c1",
   "metadata": {},
   "outputs": [
    {
     "data": {
      "text/plain": [
       "tensor([1., 1., 1.])"
      ]
     },
     "execution_count": 116,
     "metadata": {},
     "output_type": "execute_result"
    }
   ],
   "source": [
    "u = torch.tensor([1,1,1], dtype = torch.float)\n",
    "u"
   ]
  },
  {
   "cell_type": "code",
   "execution_count": 117,
   "id": "3901f514-fa8d-4756-82cc-47eb74a47337",
   "metadata": {},
   "outputs": [
    {
     "data": {
      "text/plain": [
       "(tensor([[ 0.7071, -0.7071,  0.0000],\n",
       "         [ 0.7071,  0.7071,  0.0000],\n",
       "         [ 0.0000,  0.0000,  1.0000]]),\n",
       " torch.Size([3, 3]))"
      ]
     },
     "execution_count": 117,
     "metadata": {},
     "output_type": "execute_result"
    }
   ],
   "source": [
    "R3dZ = rotation_matrix_3d(2, 45)\n",
    "R3dZ, R3dZ.shape"
   ]
  },
  {
   "cell_type": "code",
   "execution_count": 118,
   "id": "dcfa46a7-d79c-4672-aec8-aaf121296c66",
   "metadata": {},
   "outputs": [
    {
     "data": {
      "text/plain": [
       "tensor([0.0000, 1.4142, 1.0000])"
      ]
     },
     "execution_count": 118,
     "metadata": {},
     "output_type": "execute_result"
    }
   ],
   "source": [
    "v = torch.matmul(R3dZ, u)\n",
    "v"
   ]
  },
  {
   "cell_type": "code",
   "execution_count": 119,
   "id": "492e5f94-e394-4f0a-a92a-29aba31a22b1",
   "metadata": {},
   "outputs": [
    {
     "data": {
      "text/plain": [
       "tensor([[ 0.8660, -0.5000],\n",
       "        [ 0.5000,  0.8660]])"
      ]
     },
     "execution_count": 119,
     "metadata": {},
     "output_type": "execute_result"
    }
   ],
   "source": [
    "R_30 = rotation_matrix_2d(30)\n",
    "R_30"
   ]
  },
  {
   "cell_type": "code",
   "execution_count": 120,
   "id": "1f9a5eca-64d7-4f2f-a6bf-f62c38c858d7",
   "metadata": {},
   "outputs": [],
   "source": [
    "assert torch.allclose(inverse(R_30), R_30.T)"
   ]
  },
  {
   "cell_type": "code",
   "execution_count": 121,
   "id": "416b73df-3197-4596-8b08-ee09deabe87d",
   "metadata": {},
   "outputs": [],
   "source": [
    "ttt = torch.allclose(inverse(R_30), R_30.T)"
   ]
  },
  {
   "cell_type": "code",
   "execution_count": 122,
   "id": "b352185c-5fe6-45aa-a9ac-5656c897f8d9",
   "metadata": {},
   "outputs": [
    {
     "data": {
      "text/plain": [
       "True"
      ]
     },
     "execution_count": 122,
     "metadata": {},
     "output_type": "execute_result"
    }
   ],
   "source": [
    "ttt"
   ]
  },
  {
   "cell_type": "code",
   "execution_count": 125,
   "id": "ae57422c-ac6c-4a99-94b3-038be45df4a4",
   "metadata": {},
   "outputs": [
    {
     "data": {
      "text/plain": [
       "tensor(2.2361)"
      ]
     },
     "execution_count": 125,
     "metadata": {},
     "output_type": "execute_result"
    }
   ],
   "source": [
    "x = torch.tensor([1,2], dtype = torch.float)\n",
    "LA.norm(x)"
   ]
  },
  {
   "cell_type": "code",
   "execution_count": 126,
   "id": "91200863-5448-4c3b-833c-dbac2bdd9665",
   "metadata": {},
   "outputs": [
    {
     "data": {
      "text/plain": [
       "tensor(2.2361)"
      ]
     },
     "execution_count": 126,
     "metadata": {},
     "output_type": "execute_result"
    }
   ],
   "source": [
    "y = torch.matmul(R_30, x)\n",
    "LA.norm(y)"
   ]
  },
  {
   "cell_type": "code",
   "execution_count": 140,
   "id": "7a8d9535-0bc9-43a4-9325-e61ccf05cb7b",
   "metadata": {},
   "outputs": [
    {
     "data": {
      "text/plain": [
       "tensor([[ 0.7071, -0.7071,  0.0000],\n",
       "        [ 0.7071,  0.7071,  0.0000],\n",
       "        [ 0.0000,  0.0000,  1.0000]])"
      ]
     },
     "execution_count": 140,
     "metadata": {},
     "output_type": "execute_result"
    }
   ],
   "source": [
    "R3dZ"
   ]
  },
  {
   "cell_type": "code",
   "execution_count": 141,
   "id": "8dd46d45-0ab8-4414-8f2c-47b6e7e44fd4",
   "metadata": {},
   "outputs": [
    {
     "data": {
      "text/plain": [
       "(tensor([0.7071+0.7071j, 0.7071-0.7071j, 1.0000+0.0000j]),\n",
       " tensor([[ 0.0000-0.7071j,  0.0000+0.7071j,  0.0000+0.0000j],\n",
       "         [-0.7071+0.0000j, -0.7071-0.0000j,  0.0000+0.0000j],\n",
       "         [ 0.0000+0.0000j,  0.0000-0.0000j,  1.0000+0.0000j]]))"
      ]
     },
     "execution_count": 141,
     "metadata": {},
     "output_type": "execute_result"
    }
   ],
   "source": [
    "l, e = LA.eig(R3dZ)\n",
    "l, e"
   ]
  },
  {
   "cell_type": "code",
   "execution_count": 145,
   "id": "96360b4d-9958-4b60-80e8-de5908dca1c9",
   "metadata": {},
   "outputs": [
    {
     "data": {
      "text/plain": [
       "tensor([[0.+0.j],\n",
       "        [0.+0.j],\n",
       "        [1.+0.j]])"
      ]
     },
     "execution_count": 145,
     "metadata": {},
     "output_type": "execute_result"
    }
   ],
   "source": [
    "axis_of_rotation = e[:, torch.where(l==1.)]\n",
    "axis_of_rotation"
   ]
  },
  {
   "cell_type": "code",
   "execution_count": 146,
   "id": "a729d0d7-7349-4b9f-b7fc-fe68cb8ef77f",
   "metadata": {},
   "outputs": [
    {
     "data": {
      "text/plain": [
       "tensor([0.+0.j, 0.+0.j, 1.+0.j])"
      ]
     },
     "execution_count": 146,
     "metadata": {},
     "output_type": "execute_result"
    }
   ],
   "source": [
    "axis_of_rotation = torch.squeeze(axis_of_rotation)\n",
    "axis_of_rotation"
   ]
  },
  {
   "cell_type": "code",
   "execution_count": 147,
   "id": "06afa6f0-badd-4207-abe6-6e9cf0c174da",
   "metadata": {},
   "outputs": [],
   "source": [
    "assert torch.allclose(axis_of_rotation.real, torch.tensor([0,0,1], dtype = torch.float))\n"
   ]
  },
  {
   "cell_type": "code",
   "execution_count": 149,
   "id": "7309b52f-456e-44e9-92fb-c31e13765628",
   "metadata": {},
   "outputs": [],
   "source": [
    "p = torch.randint(0,10, (1,)) * axis_of_rotation\n",
    "assert torch.allclose(torch.matmul(R3dZ, p.real), p.real)"
   ]
  },
  {
   "cell_type": "code",
   "execution_count": 152,
   "id": "9a2a5b6d-d349-49e4-ae2f-b2ba1bf4b726",
   "metadata": {},
   "outputs": [
    {
     "name": "stdout",
     "output_type": "stream",
     "text": [
      "tensor([[ 0.0000-0.7071j,  0.0000+0.7071j,  0.0000+0.0000j],\n",
      "        [-0.7071+0.0000j, -0.7071-0.0000j,  0.0000+0.0000j],\n",
      "        [ 0.0000+0.0000j,  0.0000-0.0000j,  1.0000+0.0000j]]) tensor([[0.7071+0.7071j, 0.0000+0.0000j, 0.0000+0.0000j],\n",
      "        [0.0000+0.0000j, 0.7071-0.7071j, 0.0000+0.0000j],\n",
      "        [0.0000+0.0000j, 0.0000+0.0000j, 1.0000+0.0000j]]) tensor([[ 0.0000+0.7071j, -0.7071+0.0000j,  0.0000-0.0000j],\n",
      "        [ 0.0000-0.7071j, -0.7071+0.0000j,  0.0000-0.0000j],\n",
      "        [ 0.0000+0.0000j,  0.0000+0.0000j,  1.0000+0.0000j]])\n"
     ]
    }
   ],
   "source": [
    "def diagonalize(matrix):\n",
    "    try:\n",
    "        l,e = LA.eig(matrix)\n",
    "        sigma = torch.diag(l)\n",
    "        return e, sigma, inverse(e)\n",
    "    except np.linalg.LinAlgError:\n",
    "        print('Cannot Diagonlize matrix!!')\n",
    "\n",
    "        \n",
    "A = R3dZ\n",
    "S, Sigma, S_inv = diagonalize(A)\n",
    "print(S, Sigma, S_inv)"
   ]
  },
  {
   "cell_type": "code",
   "execution_count": 153,
   "id": "11f264c6-a57b-4e21-8568-a7bfb2c2e95a",
   "metadata": {},
   "outputs": [
    {
     "data": {
      "text/plain": [
       "tensor([[ 0.7071-2.9802e-08j, -0.7071+0.0000e+00j,  0.0000+0.0000e+00j],\n",
       "        [ 0.7071+0.0000e+00j,  0.7071+2.9802e-08j,  0.0000+0.0000e+00j],\n",
       "        [ 0.0000+0.0000e+00j,  0.0000+0.0000e+00j,  1.0000+0.0000e+00j]])"
      ]
     },
     "execution_count": 153,
     "metadata": {},
     "output_type": "execute_result"
    }
   ],
   "source": [
    "A1 = torch.matmul(S, torch.matmul(Sigma, S_inv))\n",
    "A1"
   ]
  },
  {
   "cell_type": "code",
   "execution_count": 157,
   "id": "f8e5565b-8d65-46b6-89b8-93c15a27c13d",
   "metadata": {},
   "outputs": [
    {
     "data": {
      "text/plain": [
       "True"
      ]
     },
     "execution_count": 157,
     "metadata": {},
     "output_type": "execute_result"
    }
   ],
   "source": [
    "torch.allclose(A, A1.real )"
   ]
  },
  {
   "cell_type": "code",
   "execution_count": 167,
   "id": "1001ee03-00f2-493f-92c1-96c291db2617",
   "metadata": {},
   "outputs": [
    {
     "data": {
      "text/plain": [
       "tensor([[1., 2., 1.],\n",
       "        [2., 2., 3.],\n",
       "        [1., 3., 3.]])"
      ]
     },
     "execution_count": 167,
     "metadata": {},
     "output_type": "execute_result"
    }
   ],
   "source": [
    "A = torch.tensor([[1,2,1],[2,2,3],[1,3,3]], dtype = torch.float)\n",
    "A"
   ]
  },
  {
   "cell_type": "code",
   "execution_count": 168,
   "id": "e0d5a223-bace-42df-abaa-dd788c278b2c",
   "metadata": {},
   "outputs": [
    {
     "data": {
      "text/plain": [
       "tensor([[True, True, True],\n",
       "        [True, True, True],\n",
       "        [True, True, True]])"
      ]
     },
     "execution_count": 168,
     "metadata": {},
     "output_type": "execute_result"
    }
   ],
   "source": [
    "A == A.T"
   ]
  },
  {
   "cell_type": "code",
   "execution_count": 169,
   "id": "c092bdd1-5110-4d3d-851c-0e50d5090a09",
   "metadata": {},
   "outputs": [
    {
     "data": {
      "text/plain": [
       "tensor([1.0000, 2.0000, 3.0000])"
      ]
     },
     "execution_count": 169,
     "metadata": {},
     "output_type": "execute_result"
    }
   ],
   "source": [
    "b = torch.tensor([8,15,16], dtype = torch.float)\n",
    "X_0 = torch.matmul(inverse(A), b)\n",
    "X_0"
   ]
  },
  {
   "cell_type": "code",
   "execution_count": 170,
   "id": "761483f2-1c57-4a03-9423-5a6c233092f0",
   "metadata": {},
   "outputs": [
    {
     "data": {
      "text/plain": [
       "(tensor([ 6.3485+0.j,  0.7302+0.j, -1.0787+0.j]),\n",
       " tensor([[-0.3651+0.j, -0.7759+0.j,  0.5145+0.j],\n",
       "         [-0.6366+0.j, -0.1953+0.j, -0.7461+0.j],\n",
       "         [-0.6793+0.j,  0.5999+0.j,  0.4226+0.j]]))"
      ]
     },
     "execution_count": 170,
     "metadata": {},
     "output_type": "execute_result"
    }
   ],
   "source": [
    "w, S = LA.eig(A)\n",
    "w,S"
   ]
  },
  {
   "cell_type": "code",
   "execution_count": 173,
   "id": "3c5da62b-ba42-402b-b2f6-1f1100900fbf",
   "metadata": {},
   "outputs": [
    {
     "name": "stderr",
     "output_type": "stream",
     "text": [
      "/home/jeet/.local/lib/python3.6/site-packages/ipykernel_launcher.py:1: UserWarning: To copy construct from a tensor, it is recommended to use sourceTensor.clone().detach() or sourceTensor.clone().detach().requires_grad_(True), rather than torch.tensor(sourceTensor).\n",
      "  \"\"\"Entry point for launching an IPython kernel.\n"
     ]
    },
    {
     "data": {
      "text/plain": [
       "tensor([-23.3386+0.j,   0.4624+0.j,  -0.3131+0.j])"
      ]
     },
     "execution_count": 173,
     "metadata": {},
     "output_type": "execute_result"
    }
   ],
   "source": [
    "b = torch.tensor(b, dtype = torch.cfloat)\n",
    "y1 = torch.matmul(S.T, b)\n",
    "y1"
   ]
  },
  {
   "cell_type": "code",
   "execution_count": 174,
   "id": "55df11c6-1f3e-4ac5-832d-317504704381",
   "metadata": {},
   "outputs": [],
   "source": [
    "y2 = torch.matmul(torch.diag(1/w), y1)"
   ]
  },
  {
   "cell_type": "code",
   "execution_count": 175,
   "id": "66984e9c-9421-4cd7-b701-ebd09b79db94",
   "metadata": {},
   "outputs": [
    {
     "data": {
      "text/plain": [
       "tensor([-3.6762+0.j,  0.6333+0.j,  0.2902+0.j])"
      ]
     },
     "execution_count": 175,
     "metadata": {},
     "output_type": "execute_result"
    }
   ],
   "source": [
    "y2"
   ]
  },
  {
   "cell_type": "code",
   "execution_count": 176,
   "id": "cee4abea-063b-4c57-9f48-81a6e68a8bfb",
   "metadata": {},
   "outputs": [],
   "source": [
    "x_1 = torch.matmul(S, y2)"
   ]
  },
  {
   "cell_type": "code",
   "execution_count": 178,
   "id": "edfd9cd8-99a9-49c3-b336-5d6b8cf747c6",
   "metadata": {},
   "outputs": [
    {
     "data": {
      "text/plain": [
       "tensor([1.0000+0.j, 2.0000+0.j, 3.0000+0.j])"
      ]
     },
     "execution_count": 178,
     "metadata": {},
     "output_type": "execute_result"
    }
   ],
   "source": [
    "x_1"
   ]
  },
  {
   "cell_type": "code",
   "execution_count": 184,
   "id": "8171141c-8ead-4141-9e53-87cc9961e765",
   "metadata": {},
   "outputs": [],
   "source": [
    "assert torch.allclose(X_0, x_1.real)"
   ]
  },
  {
   "cell_type": "code",
   "execution_count": 192,
   "id": "bb64a50f-4e1d-4520-9c30-8346e8d31d8d",
   "metadata": {},
   "outputs": [],
   "source": [
    "def spectral_decomposition(A):\n",
    "    assert len(A.shape) == 2 and A.shape[0] == A.shape[1] and torch.all(A == A.T)\n",
    "    l , e = LA.eig(A)\n",
    "    \n",
    "    assert len(torch.unique(l.real)) == A.shape[0]\n",
    "    C = torch.zeros((A.shape[0], A.shape[0], A.shape[0]))\n",
    "    \n",
    "    \n",
    "    for i, lambda_i in enumerate(l):\n",
    "        e_i = e[:, i]\n",
    "        e_i = e_i.reshape((3,1))\n",
    "        C[i,:,:] = (lambda_i * torch.matmul(e_i, e_i.T)).real\n",
    "    return C\n",
    "    \n",
    "    "
   ]
  },
  {
   "cell_type": "code",
   "execution_count": 193,
   "id": "da3433e6-f67b-46f1-9126-7b5e8f39a806",
   "metadata": {},
   "outputs": [
    {
     "data": {
      "text/plain": [
       "tensor([[1., 2., 1.],\n",
       "        [2., 2., 3.],\n",
       "        [1., 3., 3.]])"
      ]
     },
     "execution_count": 193,
     "metadata": {},
     "output_type": "execute_result"
    }
   ],
   "source": [
    "A = torch.tensor([[1,2,1], [2,2,3],[1,3,3]]).float()\n",
    "A"
   ]
  },
  {
   "cell_type": "code",
   "execution_count": 194,
   "id": "70c91fce-6445-47fd-8a61-761f6b340fe1",
   "metadata": {},
   "outputs": [
    {
     "data": {
      "text/plain": [
       "tensor([[[ 0.8460,  1.4753,  1.5744],\n",
       "         [ 1.4753,  2.5726,  2.7454],\n",
       "         [ 1.5744,  2.7454,  2.9299]],\n",
       "\n",
       "        [[ 0.4395,  0.1106, -0.3399],\n",
       "         [ 0.1106,  0.0278, -0.0855],\n",
       "         [-0.3399, -0.0855,  0.2628]],\n",
       "\n",
       "        [[-0.2856,  0.4141, -0.2346],\n",
       "         [ 0.4141, -0.6004,  0.3401],\n",
       "         [-0.2346,  0.3401, -0.1927]]])"
      ]
     },
     "execution_count": 194,
     "metadata": {},
     "output_type": "execute_result"
    }
   ],
   "source": [
    "C = spectral_decomposition(A)\n",
    "C"
   ]
  },
  {
   "cell_type": "code",
   "execution_count": 195,
   "id": "d338155b-75e5-4aed-941a-1c251dce4734",
   "metadata": {},
   "outputs": [],
   "source": [
    "A1 = C.sum(axis = 0)\n",
    "assert torch.allclose(A, A1)"
   ]
  },
  {
   "cell_type": "code",
   "execution_count": null,
   "id": "54c8cc11-ab0e-46b8-a3a8-5ceefa5c645f",
   "metadata": {},
   "outputs": [],
   "source": []
  }
 ],
 "metadata": {
  "kernelspec": {
   "display_name": "Python 3",
   "language": "python",
   "name": "python3"
  },
  "language_info": {
   "codemirror_mode": {
    "name": "ipython",
    "version": 3
   },
   "file_extension": ".py",
   "mimetype": "text/x-python",
   "name": "python",
   "nbconvert_exporter": "python",
   "pygments_lexer": "ipython3",
   "version": "3.6.9"
  }
 },
 "nbformat": 4,
 "nbformat_minor": 5
}
